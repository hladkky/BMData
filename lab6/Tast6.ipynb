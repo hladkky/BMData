{
 "cells": [
  {
   "cell_type": "markdown",
   "metadata": {
    "colab_type": "text",
    "id": "nVYjIYs6RrPC"
   },
   "source": [
    "# Парний t-критерій Стьюдента"
   ]
  },
  {
   "cell_type": "markdown",
   "metadata": {
    "colab_type": "text",
    "id": "XXsl5rFgSnTy"
   },
   "source": [
    "## Теоретичні відомості"
   ]
  },
  {
   "cell_type": "markdown",
   "metadata": {
    "colab_type": "text",
    "id": "PssXphh9SrEZ"
   },
   "source": [
    "### Область застосування"
   ]
  },
  {
   "cell_type": "markdown",
   "metadata": {
    "colab_type": "text",
    "id": "AmI6S5ibR9LK"
   },
   "source": [
    "t-критерій для парних вибірок застосовується для порівняння двох середніх значень отриманих від одного і того об'єкта. Два середніх можуть відображати такі явища, як:\n",
    "\n",
    "* Вимірювання одного показника, які проведено в два різних моменти часу (наприклад, до і після тесту з проведеним втручанням між двома часовими точками)\n",
    "* Вимірювання, проведене в двох різних умовах (наприклад, завершення тесту в умовах «контролю» і «експерименту»)\n",
    "* Вимірювання проводяться з двох половин або сторін від суб'єкта або експериментальної одиниці (наприклад, вимір втрати слуху в лівому і правому вухах суб'єкта).\n",
    "\n",
    "**Мета тесту** - визначити, чи є статистичні докази того, що середнє розходження між парними спостереженнями  значно відрізняється від нуля. t-критерій для парних вибірок - це параметричний тест."
   ]
  },
  {
   "cell_type": "markdown",
   "metadata": {
    "colab_type": "text",
    "id": "JM-Yi2bCV-ki"
   },
   "source": [
    "### Вимоги до даних"
   ]
  },
  {
   "cell_type": "markdown",
   "metadata": {
    "colab_type": "text",
    "id": "34fQ92DpUGbE"
   },
   "source": [
    "Для використання даного критерію обов'язковим є:\n",
    "\n",
    "\n",
    "1.   Залежна змінна має бути безперервною.\n",
    "2.   Групи мають бути залежними.\n",
    "3. Кількість груп не може бути більшою ніж 2.\n",
    "4. Кількість обьектів в групах однакова (кожному спостереженню об'єкта в першій групі відповідає спостереження в другій).\n",
    "5. Залежна група має мати нормальний розподіл.\n",
    "\n"
   ]
  },
  {
   "cell_type": "markdown",
   "metadata": {
    "colab_type": "text",
    "id": "QbCE8jwcaSEr"
   },
   "source": [
    "### Гіпотеза"
   ]
  },
  {
   "cell_type": "markdown",
   "metadata": {
    "colab_type": "text",
    "id": "rq2hTPtmaV1p"
   },
   "source": [
    "Гіпотеза, яка перевіряєть даним тестом може бути виражена наступним чином:\n",
    "\n",
    "$H_0 : μ_1  = μ_2$ («парні групи рівні»)\n",
    "\n",
    "$H_1 : μ_1  ≠ μ_2$ («парні групи відмінні»)\n",
    "\n",
    "або:\n",
    "\n",
    "$H_0 : μ_1  - μ_2 = 0$ («різниця між середніми у парних групах за показником, що досліджується рівна 0»)\n",
    "\n",
    "$H_1 : μ_1 -  μ_2 ≠ 0 $ («різниця між середніми у парних групах за показником, що досліджується не рівна 0»)\n",
    "\n",
    "Тут $μ_1$ - середнє значення змінної в першій групі; $μ_2$ - середнє значення змінної в першій групі."
   ]
  },
  {
   "cell_type": "markdown",
   "metadata": {
    "colab_type": "text",
    "id": "7TMrlGz4bXuH"
   },
   "source": [
    "### Алгоритм розрахунку"
   ]
  },
  {
   "cell_type": "markdown",
   "metadata": {
    "colab_type": "text",
    "id": "hKV0qbE0blUT"
   },
   "source": [
    "#### Аналіз залежності між групами"
   ]
  },
  {
   "cell_type": "markdown",
   "metadata": {
    "colab_type": "text",
    "id": "mmfhYMmocyC1"
   },
   "source": [
    "Перед визначенням відмінності за парним критерієм Стьюента необхідно перевірити чи є зв'язок між групами.\n",
    "Для цього використовують коефіцієнт кореляції Пірсона. Його розраховують за формулою:\n",
    "$$ r = \\frac{n\\cdot \\sum(x_i\\cdot y_i) - (\\sum x_i \\cdot \\sum y_i)}{\\sqrt{(n\\cdot \\sum x_i^2 - (\\sum x_i) ^2) \\cdot (n\\cdot \\sum y_i^2 - (\\sum y_i) ^2)}} $$\n",
    "\n",
    "При знаходженні критичних значень для обчисленого коефіцієнта кореляції Пірсона  число ступенів свободи розраховується як $ df = n - 2 $. Знайдіть у [таблиці](https://drive.google.com/open?id=1e2bk9_U3qg3SVZ-lmeLkJcLQywm6fetc) рядок з відповідним або найбільш близьким df.\n",
    "\n",
    "Якщо отриманий коефіцієнт кореляції більше табличного - існує статистично значима залежність між групами.\n",
    "\n",
    "Величину зв'зку можна оцінити а таблицею:\n",
    "\n",
    "\n",
    "Значення r  | Висновок |\n",
    "------------- | ------------- |\n",
    "0-0,3  | дуже слабкий  |\n",
    "0,31-0,5  | слабкий   |\n",
    "0,51-0,7  | середній   |\n",
    "0,71-0,9  | високий   |\n",
    "0,91-1  | дуже високий   |\n",
    "\n"
   ]
  },
  {
   "cell_type": "markdown",
   "metadata": {
    "colab_type": "text",
    "id": "KgENLjetczvG"
   },
   "source": [
    "#### Аналіз відмінності між групами"
   ]
  },
  {
   "cell_type": "markdown",
   "metadata": {
    "colab_type": "text",
    "id": "YlJy8hjG_qyc"
   },
   "source": [
    "1. Розрахунок різниці між парними значеннями для кожного об'єкта. Приклад:\n",
    "\n",
    "Група 1 (до)  | Група 2 (після) | Різниця ($d$) |\n",
    "------------- | ------------- |--------- |\n",
    "3  | 5  | -2   |\n",
    "1  | 8   | -7   |\n",
    "10  | 0   | 10   |\n",
    "\n",
    "2. Розрахунок стататистичних показників:\n",
    "\n",
    "\n",
    "*   Середнє значення різниці між значеннями ($M_d$).\n",
    "*   Стандарне відхилення різниці між заченнями ($\\sigma_d$).\n",
    "3. Розрахунок значення t-критерію Стюдента за формулою:\n",
    "\n",
    "$$t_{emp} = \\frac{M_d}{\\sigma_d}\\cdot\\sqrt{n}\\$$\n",
    "\n",
    "4. Визначення ступеня свободи критерію:\n",
    "\n",
    "$$ df = n - 1 $$\n",
    "\n",
    "5. Визначимо по  [таблиці критичних значень](https://drive.google.com/open?id=1e2bk9_U3qg3SVZ-lmeLkJcLQywm6fetc)  t-Стьюдента рівень значущості. Знайдіть у таблиці рядок з відповідним або найбільш близьким df.\n",
    "Якщо $t_{emp} > t_{critical}$  приймається альтернативна гіпотеза про відмінність в середніх, в протилежному випадку - приймається нульова гіпотеза про рівність середніх."
   ]
  },
  {
   "cell_type": "markdown",
   "metadata": {
    "colab_type": "text",
    "id": "uzWnVaq1PU-l"
   },
   "source": [
    "# Завдання\n",
    "\n",
    "1. Обрати реальні дані з kaggle або сгенерувати випадкові дані. Дані мають відповідати вимогам викладеним вище. Формат даних:\n",
    "\n",
    "| Група 1 | Група 2  | \n",
    "| ------------- |--------- |\n",
    "| $k_{1}  $   | $k_{2}$   |\n",
    "| $...$   | $...$   |\n",
    "| $k_{1n}$   | $k_{2n}$   |\n",
    "\n",
    "2. Побудувати графік, що відображає розкид даних в групах. Приклад:\n",
    "![alt text](https://s3.amazonaws.com/libapps/accounts/2515/images/spss_paired-t_example_boxplot.PNG)\n",
    "\n",
    "3. Написати функції:\n",
    "* для оцінки зв'язку між групами за коефіцієнтом кореляції Пірсона. Функція має повертати значення коефіцієнту кореляції, значення ступеня свободи та результат оцінки значимості зв'зку (significant або not significant).\n",
    "\n",
    "* для визначення відмінності між групами за критерієм Стьюдента. Функція має повертати значення критерію Стьюдента,значення ступеня свободи та результат оцінки значимості зв'зку (significant або not significant). \n",
    "\n",
    "4. Перевірити розбіжність на між групами на даних з п. 1. \n",
    "\n",
    "5. Сформувати висновок про взаємозв'язок між групами та про їх розбіжність. "
   ]
  },
  {
   "cell_type": "markdown",
   "metadata": {},
   "source": [
    "# Дані\n",
    "<h4>Дані представляють собою кількість клієнтів, які приходять до барбершопа щоденно.</h4>\n",
    "\n",
    "   Кожен день відповідає кожному рядку \n",
    "        \n",
    "   Групи представляють собою число клієнтів які приходять на стрижку до **першого** та другого **барбера** відповідно.\n",
    "\n",
    "Барбери є близнюками та мають однаковий досвід.\n",
    "\n",
    "Єдина відмінність між барберами в тому, що другий з них публікує свої послуги в соціальних мережах, а інший ні."
   ]
  },
  {
   "cell_type": "code",
   "execution_count": 1,
   "metadata": {},
   "outputs": [
    {
     "data": {
      "text/html": [
       "<div>\n",
       "<style scoped>\n",
       "    .dataframe tbody tr th:only-of-type {\n",
       "        vertical-align: middle;\n",
       "    }\n",
       "\n",
       "    .dataframe tbody tr th {\n",
       "        vertical-align: top;\n",
       "    }\n",
       "\n",
       "    .dataframe thead th {\n",
       "        text-align: right;\n",
       "    }\n",
       "</style>\n",
       "<table border=\"1\" class=\"dataframe\">\n",
       "  <thead>\n",
       "    <tr style=\"text-align: right;\">\n",
       "      <th>Day</th>\n",
       "      <th>1</th>\n",
       "      <th>2</th>\n",
       "      <th>3</th>\n",
       "      <th>4</th>\n",
       "      <th>5</th>\n",
       "      <th>6</th>\n",
       "      <th>7</th>\n",
       "      <th>8</th>\n",
       "      <th>9</th>\n",
       "      <th>10</th>\n",
       "      <th>...</th>\n",
       "      <th>21</th>\n",
       "      <th>22</th>\n",
       "      <th>23</th>\n",
       "      <th>24</th>\n",
       "      <th>25</th>\n",
       "      <th>26</th>\n",
       "      <th>27</th>\n",
       "      <th>28</th>\n",
       "      <th>29</th>\n",
       "      <th>30</th>\n",
       "    </tr>\n",
       "  </thead>\n",
       "  <tbody>\n",
       "    <tr>\n",
       "      <th>Barber 1</th>\n",
       "      <td>5</td>\n",
       "      <td>6</td>\n",
       "      <td>4</td>\n",
       "      <td>5</td>\n",
       "      <td>7</td>\n",
       "      <td>7</td>\n",
       "      <td>3</td>\n",
       "      <td>3</td>\n",
       "      <td>2</td>\n",
       "      <td>5</td>\n",
       "      <td>...</td>\n",
       "      <td>4</td>\n",
       "      <td>6</td>\n",
       "      <td>5</td>\n",
       "      <td>3</td>\n",
       "      <td>5</td>\n",
       "      <td>7</td>\n",
       "      <td>4</td>\n",
       "      <td>3</td>\n",
       "      <td>4</td>\n",
       "      <td>8</td>\n",
       "    </tr>\n",
       "    <tr>\n",
       "      <th>Barber 2</th>\n",
       "      <td>10</td>\n",
       "      <td>8</td>\n",
       "      <td>9</td>\n",
       "      <td>9</td>\n",
       "      <td>6</td>\n",
       "      <td>3</td>\n",
       "      <td>8</td>\n",
       "      <td>7</td>\n",
       "      <td>6</td>\n",
       "      <td>4</td>\n",
       "      <td>...</td>\n",
       "      <td>4</td>\n",
       "      <td>4</td>\n",
       "      <td>7</td>\n",
       "      <td>3</td>\n",
       "      <td>6</td>\n",
       "      <td>6</td>\n",
       "      <td>8</td>\n",
       "      <td>8</td>\n",
       "      <td>8</td>\n",
       "      <td>8</td>\n",
       "    </tr>\n",
       "  </tbody>\n",
       "</table>\n",
       "<p>2 rows × 30 columns</p>\n",
       "</div>"
      ],
      "text/plain": [
       "Day       1   2   3   4   5   6   7   8   9   10  ...  21  22  23  24  25  26  \\\n",
       "Barber 1   5   6   4   5   7   7   3   3   2   5  ...   4   6   5   3   5   7   \n",
       "Barber 2  10   8   9   9   6   3   8   7   6   4  ...   4   4   7   3   6   6   \n",
       "\n",
       "Day       27  28  29  30  \n",
       "Barber 1   4   3   4   8  \n",
       "Barber 2   8   8   8   8  \n",
       "\n",
       "[2 rows x 30 columns]"
      ]
     },
     "execution_count": 1,
     "metadata": {},
     "output_type": "execute_result"
    }
   ],
   "source": [
    "import scipy.stats as ss\n",
    "import numpy as np\n",
    "import pandas as pd\n",
    "import matplotlib.pyplot as plt\n",
    "import seaborn as sns\n",
    "\n",
    "np.random.seed(3)\n",
    "\n",
    "x = np.arange(-10, 11)\n",
    "xU, xL = x + 0.5, x - 0.5\n",
    "prob1 = ss.norm.cdf(xU, loc=5, scale = 2) - ss.norm.cdf(xL, loc=5, scale = 2)\n",
    "prob2 = ss.norm.cdf(xU, loc=7, scale = 3) - ss.norm.cdf(xL, loc=7, scale = 3)\n",
    "\n",
    "prob1, prob2 = prob1 / prob1.sum(), prob2 / prob2.sum()\n",
    "\n",
    "sample1 = np.random.choice(x, size = 30, p = prob1)\n",
    "sample2 = np.random.choice(x, size = 30, p = prob2)\n",
    "sample1, sample2\n",
    "\n",
    "df = pd.DataFrame({\n",
    "    'Barber 1': sample1,\n",
    "    'Barber 2': sample2\n",
    "}, index=np.arange(1, len(sample1)+1))\n",
    "\n",
    "df.index.name = 'Day'\n",
    "df.T"
   ]
  },
  {
   "cell_type": "code",
   "execution_count": 2,
   "metadata": {},
   "outputs": [
    {
     "data": {
      "text/plain": [
       "[Text(0.5, 0, 'Number of clients')]"
      ]
     },
     "execution_count": 2,
     "metadata": {},
     "output_type": "execute_result"
    },
    {
     "data": {
      "image/png": "[encoded data removed]",
      "text/plain": [
       "<Figure size 432x288 with 1 Axes>"
      ]
     },
     "metadata": {
      "needs_background": "light"
     },
     "output_type": "display_data"
    }
   ],
   "source": [
    "sns.boxplot(data=df, orient='h').set(xlabel='Number of clients')"
   ]
  },
  {
   "cell_type": "code",
   "execution_count": 7,
   "metadata": {},
   "outputs": [
    {
     "data": {
      "text/plain": [
       "(-0.07925286978858903, (28, 30), 'not significant')"
      ]
     },
     "execution_count": 7,
     "metadata": {},
     "output_type": "execute_result"
    }
   ],
   "source": [
    "def Pearson(x, y):\n",
    "#     Get as parameters numpy.ndarray objects\n",
    "    n = len(x)\n",
    "    r = (n * (x*y).sum() - x.sum()*y.sum()) / np.sqrt(\\\n",
    "        (n*(x**2).sum() - (x.sum())**2) *\\\n",
    "        (n*(y**2).sum() - (y.sum())**2))\n",
    "    df = n-2\n",
    "    \n",
    "    pearson_cf = pd.read_excel('pearson_coefficient.xlsx', index=False)\n",
    "    pearson_cf.set_index(\"df\", inplace=True)\n",
    "    \n",
    "    try:\n",
    "        value_to_cmp = pearson_cf.loc[df, 0.05]\n",
    "    except KeyError:\n",
    "        df = (df, pearson_cf.index[abs(pearson_cf.index[:-1]-df).argmin()])\n",
    "        value_to_cmp = pearson_cf.loc[df[1], 0.05]\n",
    "    \n",
    "    level = \"significant\" if abs(r) > value_to_cmp else \"not significant\"\n",
    "    \n",
    "    return r, df, level\n",
    "    \n",
    "    \n",
    "Pearson(sample1, sample2)"
   ]
  },
  {
   "cell_type": "markdown",
   "metadata": {},
   "source": [
    "Повернуто кортеж, що має на першому місці показник ступеня вільності, а на другому значення, що було взято з таблиці для отримання критичного значення."
   ]
  },
  {
   "cell_type": "code",
   "execution_count": 8,
   "metadata": {},
   "outputs": [
    {
     "data": {
      "text/plain": [
       "(-3.8492951524573567, 29, 'significant')"
      ]
     },
     "execution_count": 8,
     "metadata": {},
     "output_type": "execute_result"
    }
   ],
   "source": [
    "def Student(x, y):\n",
    "    d = x - y\n",
    "    \n",
    "    n = len(d)\n",
    "    df = n - 1\n",
    "    \n",
    "    mu = d.mean()\n",
    "    sigma = d.std()\n",
    "    \n",
    "    t = mu / sigma * np.sqrt(n)\n",
    "    \n",
    "    student_cf = pd.read_excel('student_coefficient.xlsx', index=False)\n",
    "    student_cf.set_index(\"df\", inplace=True)\n",
    "    \n",
    "    try:\n",
    "        value_to_cmp = student_cf.loc[df, 0.05]\n",
    "    except KeyError:\n",
    "        df = (df, pearson_cf.index[abs(pearson_cf.index[:-1]-df).argmin()])\n",
    "        value_to_cmp = student_cf.loc[df, 0.05]\n",
    "    \n",
    "    level = \"significant\" if abs(t) > value_to_cmp else \"not significant\"\n",
    "    \n",
    "    return t, df, level\n",
    "    \n",
    "    \n",
    "Student(sample1, sample2)"
   ]
  },
  {
   "cell_type": "markdown",
   "metadata": {},
   "source": [
    "# Висновок"
   ]
  },
  {
   "cell_type": "markdown",
   "metadata": {},
   "source": [
    "#### Під час аналізу двох груп на залежність між собою було отримано результат, що довзволяє припустити, що статистичної залежності немає\n",
    "\n",
    "#### Під час аналізу на перевірку відмінності між групами з допомогою розрахунку критерію t-Стьюдента була прийнята альтернативна гіпотеза про відмінність середніх"
   ]
  }
 ],
 "metadata": {
  "colab": {
   "authorship_tag": "ABX9TyMwT/dAZl/1rpxxB0yoZkPg",
   "name": "Tast6.ipynb",
   "provenance": []
  },
  "kernelspec": {
   "display_name": "Python 3",
   "language": "python",
   "name": "python3"
  },
  "language_info": {
   "codemirror_mode": {
    "name": "ipython",
    "version": 3
   },
   "file_extension": ".py",
   "mimetype": "text/x-python",
   "name": "python",
   "nbconvert_exporter": "python",
   "pygments_lexer": "ipython3",
   "version": "3.8.2"
  }
 },
 "nbformat": 4,
 "nbformat_minor": 1
}

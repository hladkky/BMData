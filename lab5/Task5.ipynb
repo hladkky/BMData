{
 "cells": [
  {
   "cell_type": "markdown",
   "metadata": {
    "colab_type": "text",
    "id": "9RHioPUvpaX3"
   },
   "source": [
    "# **КРИТЕРІЙ ПІРСОНА ДЛЯ ПОРІВНЯННЯ ДЕКІЛЬКО ГРУП ЗА РОЗПОДІЛЕННЯМ ОЗНАКИ**"
   ]
  },
  {
   "cell_type": "markdown",
   "metadata": {
    "colab_type": "text",
    "id": "gJvivgECtRy7"
   },
   "source": [
    "## *Теоретичні відомості*"
   ]
  },
  {
   "cell_type": "markdown",
   "metadata": {
    "colab_type": "text",
    "id": "l_CIvVzgqAA1"
   },
   "source": [
    "Критерій хі-квадрат для аналізу таблиць спряженості був розроблений і запропонований в 1900 році англійським математиком, статистиком, біологом і філософом, засновником математичної статистики і одним з основоположників біометрії Карлом Пірсоном (1857-1936).\n",
    "\n",
    "*Таблиці спряженості* - це візуальне (табличне) відображення залежності між двома __*якісними*__ ознаками. \n",
    "Інтрерпретувати цей зв'язок можна як взаємозвя'зок між розподілом за однією ознакою в залежності від градації іншої ознаки. Прикладом може бути залежність частоти летальності в групах, що приймали різні лікувальні препарати (залежність летальності від схеми лікування), або залежність кількості осіб, що займаються різними видами спорту та частоти травматичних випадків (оцінка травматичності зайнять різними видами спорту).\n",
    "\n",
    "Рядки таблиці спряженості відповідають значенням однієї змінної, стовпці - значенням іншої змінної. *Для побудови таблиць спряженості кількісні шкали попередньо повинні бути згруповані в інтервали.* Область визначення випадкової величини розбивають на $k$ інтервалів, що не перетинаються:\n",
    "\n",
    "$$x_{0}<x_{1}<...<x_{k-1}<x_{k},$$\n",
    "\n",
    "де $x_{0}$ - нижня границя області визначення випадкової величини, $x_{k}$ - верхня границя.\n",
    "\n",
    "На перетині рядка і стовпця вказується частота спільної появи відповідних значень двох ознак.\n",
    "Сума частот по рядку називається маргінальною частотою рядка; сума частот по стовпцю - маргінальною частотою стовпчика.\n",
    "У таблиці спряженості можуть бути представлені як абсолютні, так і відносні частоти (в частках або відсотках). Відносні частоти можуть розраховуватися по відношенню:\n",
    "а) до маргінальної частоти по рядку;\n",
    "б) до маргінальної частоти по стовпцю;\n",
    "в) до обсягу вибірки."
   ]
  },
  {
   "cell_type": "markdown",
   "metadata": {
    "colab_type": "text",
    "id": "EVMo4PIltX48"
   },
   "source": [
    "Статистична гіпотеза для даного критерію має наступний вигляд:\n",
    "*   Основна (нульова). Ознаки не пов'язані.\n",
    "*   Конкуруюча (альтернативна). Ознаки пов'язані."
   ]
  },
  {
   "cell_type": "markdown",
   "metadata": {
    "colab_type": "text",
    "id": "LSU7rmy8yIAB"
   },
   "source": [
    "## Алгоритм розрахунку"
   ]
  },
  {
   "cell_type": "markdown",
   "metadata": {
    "colab_type": "text",
    "id": "V-cBzKp5tkos"
   },
   "source": [
    "В класичному випадку, критерій Пірсона порівнює розподіл ознаки між двома групами. Алгоритм роботи:\n",
    "\n",
    "\n",
    "*   *Сформувати таблицю спряженості*, де стовбчики - це порівнювані групи, а рядки - градації ознаки, що досліджується.\n",
    "\n",
    "Ознака  | Група 1 | Група 2  |\n",
    "------------- | ------------- |--------- |\n",
    "Градація ознаки 1  | $n_{11}$   | $n_{21}$   |\n",
    "Градація ознаки 2  | $n_{12}$   | $n_{22}$   |\n",
    "Градація ознаки 3  | $n_{13}$   | $n_{23}$   |\n",
    "\n",
    "  $n_{11}$ - частота з якою градація 1 зустрічається в 1й групі\n",
    "\n",
    "$n_{12}$ - частота з якоюградація 2 зустрічається в 1й групі\n",
    "\n",
    "$n_{13}$ - частота з якоюградація 3 зустрічається в 1й групі\n",
    "\n",
    "$n_{21}$ - частота з якоюградація 1 зустрічається в 2й групі\n",
    "\n",
    "$n_{22}$ - частота з якоюградація 2 зустрічається в 2й групі\n",
    "\n",
    "$n_{23}$ - частота з якоюградація 3 зустрічається в 2й групі\n",
    "\n",
    "Вважаємо, що перша група експериментальна, а друга - теоретична.\n",
    "\n",
    "*   Перевірити рівність сум частот $\\sum n_{i}=\\sum \\grave{n}_{i}$. Якщо суми відрізняються, вирівняти їх зі збереженням відсоткового співвідношення між частотами всередині групи.\n",
    "\n",
    "* Розрахувати різницю між експериметальними (емпричними) та контрольним (теоретичними) частотами для кожної градації:\n",
    "\n",
    "Ознака  | Група 1 | Група 2  | $(n_{i}-\\grave{n}_{i})^2$  |\n",
    "------------- | ------------- |--------- |-------------- |\n",
    "Градація ознаки 1  | $n_{11}$   | $n_{21}$   |$(n_{11}-\\grave{n}_{21})^2$  |\n",
    "Градація ознаки 2  | $n_{12}$   | $n_{22}$   |$(n_{12}-\\grave{n}_{22})^2$  |\n",
    "Градація ознаки 3  | $n_{13}$   | $n_{23}$   |$(n_{13}-\\grave{n}_{23})^2$  |\n",
    "\n",
    "* Розділити отримані квадрати на теоретичні частити (дані контрольної групи):\n",
    "\n",
    "Ознака  | Група 1 | Група 2  | $(n_{i}-\\grave{n}_{i})^2$  | $\\frac{(n_{i}-\\grave{n}_{i})^2}{\\grave{n}_{i}}$  |\n",
    "------------- | ------------- |--------- |-------------- |-------------- |\n",
    "Градація ознаки 1  | $n_{11}$   | $n_{21}$   |$(n_{11}-\\grave{n}_{21})^2$  |$\\frac{(n_{11}-\\grave{n}_{21})^2}{\\grave{n}_{21}}$  |\n",
    "Градація ознаки 2  | $n_{12}$   | $n_{22}$   |$(n_{12}-\\grave{n}_{22})^2$  |$\\frac{(n_{12}-\\grave{n}_{22})^2}{\\grave{n}_{22}}$  |\n",
    "Градація ознаки 3  | $n_{13}$   | $n_{23}$   |$(n_{13}-\\grave{n}_{23})^2$  |$\\frac{(n_{13}-\\grave{n}_{23})^2}{\\grave{n}_{23}}^2$  |\n",
    "\n",
    "\n",
    "* Знайти сумму отриманих значень, позначивши її як $\\chi_{emp}^2$.\n",
    "\n",
    "* Визначити ступінь свободи критерію:\n",
    "\n",
    "$$r=m-1,$$\n",
    "\n",
    "де m - кількість градацій ознаки (рядків в таблиці спряженості).\n",
    "\n",
    "* Визначити за таблицею критичне значення для відповідного рівня значимості $\\alpha$ та розрахованого числа ступенів свободи.\n",
    "\n",
    "* Якщо $\\chi_{emp}^2 > \\chi_{critical}^2$, то розбіжності між розподіленнями статистично значимі на даному рівні значимості.\n"
   ]
  },
  {
   "cell_type": "markdown",
   "metadata": {
    "colab_type": "text",
    "id": "IdynD2W28NS9"
   },
   "source": [
    "## Таблиця критичних значень"
   ]
  },
  {
   "cell_type": "markdown",
   "metadata": {
    "colab_type": "text",
    "id": "6jyV7r8d8RyR"
   },
   "source": [
    "Завантажити таблицю критичних значень можна за посиланням: \n",
    "\n",
    "https://drive.google.com/open?id=1-525zNUUxYAbY3FStFy79B9O3UMkcuan"
   ]
  },
  {
   "cell_type": "markdown",
   "metadata": {
    "colab_type": "text",
    "id": "iZobJ1GO8_TY"
   },
   "source": [
    "## Завдання"
   ]
  },
  {
   "cell_type": "markdown",
   "metadata": {
    "colab_type": "text",
    "id": "BiWG1gAq9C5S"
   },
   "source": [
    "1. Обрати реальні дані з kaggle або сгенерувати випадкові дані, що містять розподіл деякої ознаки в двох групах.\n",
    "2. Побудувати графік, що відображає розподіл ознак в групах.\n",
    "3. Написати функції, що оцінює зв'язок між ознакою та групою за критерієм Пірсона. Функція має оцінювати розбіжність на двох рівнях - 0,001 та 0,05, в залежністі від параметру significant_level, що передається в неї.\n",
    "Врахувати у функції випадок, що сума частот ознаки у групах може бути відмінною.\n",
    "4. Перевірити розбіжність між групами на даних з п. 1. В результаті сформувати таблицю спряженості наступного вигляду:\n",
    "\n",
    "Ознака  | Група 1 | Група 2  | \n",
    "------------- | ------------- |--------- |\n",
    "Градація ознаки 1  | $n_{11}  $   | $n_{21}$   |\n",
    "Градація ознаки 2  | $n_{12}$   | $n_{22}$   |\n",
    "Градація ознаки 3  | $n_{13}$   | $n_{23}$   |\n",
    "\n",
    "Додати до таблиці стовпчики з відсотковим розподілом по градаціям всередині груп.\n",
    "Окремо вивести результати роботи критерію (чи є статистична розбіжність між групами)."
   ]
  },
  {
   "cell_type": "markdown",
   "metadata": {},
   "source": [
    "**1. Обрати реальні дані з kaggle або сгенерувати випадкові дані, що містять розподіл деякої ознаки в двох групах.**"
   ]
  },
  {
   "cell_type": "code",
   "execution_count": 1,
   "metadata": {},
   "outputs": [],
   "source": [
    "import numpy as np\n",
    "import pandas as pd\n",
    "import matplotlib.pyplot as plt\n",
    "import seaborn as sns"
   ]
  },
  {
   "cell_type": "code",
   "execution_count": 2,
   "metadata": {
    "colab": {},
    "colab_type": "code",
    "id": "zyXdWWXf_Tm8"
   },
   "outputs": [
    {
     "data": {
      "text/html": [
       "<div>\n",
       "<style scoped>\n",
       "    .dataframe tbody tr th:only-of-type {\n",
       "        vertical-align: middle;\n",
       "    }\n",
       "\n",
       "    .dataframe tbody tr th {\n",
       "        vertical-align: top;\n",
       "    }\n",
       "\n",
       "    .dataframe thead th {\n",
       "        text-align: right;\n",
       "    }\n",
       "</style>\n",
       "<table border=\"1\" class=\"dataframe\">\n",
       "  <thead>\n",
       "    <tr style=\"text-align: right;\">\n",
       "      <th></th>\n",
       "      <th>Country</th>\n",
       "      <th>TotalCases</th>\n",
       "      <th>TotalDeaths</th>\n",
       "      <th>Recovered</th>\n",
       "      <th>ActiveCases</th>\n",
       "      <th>SeriousCases</th>\n",
       "      <th>CasesPerMil</th>\n",
       "      <th>Population</th>\n",
       "      <th>MedianAge</th>\n",
       "    </tr>\n",
       "  </thead>\n",
       "  <tbody>\n",
       "    <tr>\n",
       "      <th>0</th>\n",
       "      <td>China</td>\n",
       "      <td>81008</td>\n",
       "      <td>3255</td>\n",
       "      <td>71740</td>\n",
       "      <td>6013</td>\n",
       "      <td>1927</td>\n",
       "      <td>56.00</td>\n",
       "      <td>1439323776</td>\n",
       "      <td>38</td>\n",
       "    </tr>\n",
       "    <tr>\n",
       "      <th>1</th>\n",
       "      <td>Italy</td>\n",
       "      <td>47021</td>\n",
       "      <td>4032</td>\n",
       "      <td>5129</td>\n",
       "      <td>37860</td>\n",
       "      <td>2655</td>\n",
       "      <td>778.00</td>\n",
       "      <td>60461826</td>\n",
       "      <td>47</td>\n",
       "    </tr>\n",
       "    <tr>\n",
       "      <th>2</th>\n",
       "      <td>Spain</td>\n",
       "      <td>24926</td>\n",
       "      <td>1326</td>\n",
       "      <td>2125</td>\n",
       "      <td>21475</td>\n",
       "      <td>939</td>\n",
       "      <td>533.00</td>\n",
       "      <td>46754778</td>\n",
       "      <td>45</td>\n",
       "    </tr>\n",
       "    <tr>\n",
       "      <th>3</th>\n",
       "      <td>Germany</td>\n",
       "      <td>20705</td>\n",
       "      <td>72</td>\n",
       "      <td>209</td>\n",
       "      <td>20424</td>\n",
       "      <td>2</td>\n",
       "      <td>247.00</td>\n",
       "      <td>83783942</td>\n",
       "      <td>46</td>\n",
       "    </tr>\n",
       "    <tr>\n",
       "      <th>4</th>\n",
       "      <td>Iran</td>\n",
       "      <td>20610</td>\n",
       "      <td>1556</td>\n",
       "      <td>7635</td>\n",
       "      <td>11419</td>\n",
       "      <td>0</td>\n",
       "      <td>245.00</td>\n",
       "      <td>83992949</td>\n",
       "      <td>32</td>\n",
       "    </tr>\n",
       "    <tr>\n",
       "      <th>...</th>\n",
       "      <td>...</td>\n",
       "      <td>...</td>\n",
       "      <td>...</td>\n",
       "      <td>...</td>\n",
       "      <td>...</td>\n",
       "      <td>...</td>\n",
       "      <td>...</td>\n",
       "      <td>...</td>\n",
       "      <td>...</td>\n",
       "    </tr>\n",
       "    <tr>\n",
       "      <th>182</th>\n",
       "      <td>St. Vincent Grenadines</td>\n",
       "      <td>1</td>\n",
       "      <td>0</td>\n",
       "      <td>0</td>\n",
       "      <td>1</td>\n",
       "      <td>0</td>\n",
       "      <td>9.00</td>\n",
       "      <td>0</td>\n",
       "      <td>0</td>\n",
       "    </tr>\n",
       "    <tr>\n",
       "      <th>183</th>\n",
       "      <td>Sint Maarten</td>\n",
       "      <td>1</td>\n",
       "      <td>0</td>\n",
       "      <td>0</td>\n",
       "      <td>1</td>\n",
       "      <td>0</td>\n",
       "      <td>23.00</td>\n",
       "      <td>42876</td>\n",
       "      <td>0</td>\n",
       "    </tr>\n",
       "    <tr>\n",
       "      <th>184</th>\n",
       "      <td>Somalia</td>\n",
       "      <td>1</td>\n",
       "      <td>0</td>\n",
       "      <td>0</td>\n",
       "      <td>1</td>\n",
       "      <td>0</td>\n",
       "      <td>0.06</td>\n",
       "      <td>15893222</td>\n",
       "      <td>17</td>\n",
       "    </tr>\n",
       "    <tr>\n",
       "      <th>185</th>\n",
       "      <td>Eswatini</td>\n",
       "      <td>1</td>\n",
       "      <td>0</td>\n",
       "      <td>0</td>\n",
       "      <td>1</td>\n",
       "      <td>0</td>\n",
       "      <td>0.90</td>\n",
       "      <td>1160164</td>\n",
       "      <td>21</td>\n",
       "    </tr>\n",
       "    <tr>\n",
       "      <th>186</th>\n",
       "      <td>Timor-Leste</td>\n",
       "      <td>1</td>\n",
       "      <td>0</td>\n",
       "      <td>0</td>\n",
       "      <td>1</td>\n",
       "      <td>0</td>\n",
       "      <td>0.80</td>\n",
       "      <td>1318445</td>\n",
       "      <td>21</td>\n",
       "    </tr>\n",
       "  </tbody>\n",
       "</table>\n",
       "<p>187 rows × 9 columns</p>\n",
       "</div>"
      ],
      "text/plain": [
       "                    Country  TotalCases  TotalDeaths  Recovered  ActiveCases  \\\n",
       "0                     China       81008         3255      71740         6013   \n",
       "1                     Italy       47021         4032       5129        37860   \n",
       "2                     Spain       24926         1326       2125        21475   \n",
       "3                   Germany       20705           72        209        20424   \n",
       "4                      Iran       20610         1556       7635        11419   \n",
       "..                      ...         ...          ...        ...          ...   \n",
       "182  St. Vincent Grenadines           1            0          0            1   \n",
       "183            Sint Maarten           1            0          0            1   \n",
       "184                 Somalia           1            0          0            1   \n",
       "185                Eswatini           1            0          0            1   \n",
       "186             Timor-Leste           1            0          0            1   \n",
       "\n",
       "     SeriousCases  CasesPerMil  Population  MedianAge  \n",
       "0            1927        56.00  1439323776         38  \n",
       "1            2655       778.00    60461826         47  \n",
       "2             939       533.00    46754778         45  \n",
       "3               2       247.00    83783942         46  \n",
       "4               0       245.00    83992949         32  \n",
       "..            ...          ...         ...        ...  \n",
       "182             0         9.00           0          0  \n",
       "183             0        23.00       42876          0  \n",
       "184             0         0.06    15893222         17  \n",
       "185             0         0.90     1160164         21  \n",
       "186             0         0.80     1318445         21  \n",
       "\n",
       "[187 rows x 9 columns]"
      ]
     },
     "execution_count": 2,
     "metadata": {},
     "output_type": "execute_result"
    }
   ],
   "source": [
    "data = pd.read_csv('covid19_dataset\\covid19_preprocessed.csv')\n",
    "data"
   ]
  },
  {
   "cell_type": "code",
   "execution_count": 3,
   "metadata": {},
   "outputs": [
    {
     "data": {
      "text/html": [
       "<div>\n",
       "<style scoped>\n",
       "    .dataframe tbody tr th:only-of-type {\n",
       "        vertical-align: middle;\n",
       "    }\n",
       "\n",
       "    .dataframe tbody tr th {\n",
       "        vertical-align: top;\n",
       "    }\n",
       "\n",
       "    .dataframe thead th {\n",
       "        text-align: right;\n",
       "    }\n",
       "</style>\n",
       "<table border=\"1\" class=\"dataframe\">\n",
       "  <thead>\n",
       "    <tr style=\"text-align: right;\">\n",
       "      <th></th>\n",
       "      <th>TotalDeaths</th>\n",
       "      <th>EqualTotalDeaths</th>\n",
       "    </tr>\n",
       "  </thead>\n",
       "  <tbody>\n",
       "    <tr>\n",
       "      <th>until_30</th>\n",
       "      <td>128</td>\n",
       "      <td>2948.75</td>\n",
       "    </tr>\n",
       "    <tr>\n",
       "      <th>between_30_and_40</th>\n",
       "      <td>5322</td>\n",
       "      <td>2948.75</td>\n",
       "    </tr>\n",
       "    <tr>\n",
       "      <th>between_40_and_50</th>\n",
       "      <td>6345</td>\n",
       "      <td>2948.75</td>\n",
       "    </tr>\n",
       "    <tr>\n",
       "      <th>over_50</th>\n",
       "      <td>0</td>\n",
       "      <td>2948.75</td>\n",
       "    </tr>\n",
       "  </tbody>\n",
       "</table>\n",
       "</div>"
      ],
      "text/plain": [
       "                   TotalDeaths  EqualTotalDeaths\n",
       "until_30                   128           2948.75\n",
       "between_30_and_40         5322           2948.75\n",
       "between_40_and_50         6345           2948.75\n",
       "over_50                      0           2948.75"
      ]
     },
     "execution_count": 3,
     "metadata": {},
     "output_type": "execute_result"
    }
   ],
   "source": [
    "featured_data = data[['MedianAge', 'TotalDeaths']]\n",
    "featured_data = featured_data.loc[(featured_data['TotalDeaths'] > 1) & (featured_data['MedianAge'] > 0)]\n",
    "\n",
    "featured_data.sort_values('MedianAge', ascending=False, inplace=True)\n",
    "\n",
    "grouped = featured_data.groupby('MedianAge', sort=False)\n",
    "\n",
    "until_30 = featured_data.loc[featured_data['MedianAge'] <= 30]\n",
    "between_30_and_40 = featured_data.loc[(featured_data['MedianAge'] > 30) & (featured_data['MedianAge'] <= 40)]\n",
    "between_40_and_50 = featured_data.loc[(featured_data['MedianAge'] > 40) & (featured_data['MedianAge'] <= 50)]\n",
    "over_50 = featured_data.loc[featured_data['MedianAge'] > 50]\n",
    "\n",
    "featured_data = pd.DataFrame ( \n",
    "    [until_30.sum(), between_30_and_40.sum(), between_40_and_50.sum(), over_50.sum()],\n",
    "    columns = ['TotalDeaths'],\n",
    "    index = ['until_30', 'between_30_and_40', 'between_40_and_50', 'over_50']\n",
    ")\n",
    "\n",
    "n = featured_data.shape[0]\n",
    "full = featured_data['TotalDeaths'].sum()\n",
    "featured_data['EqualTotalDeaths'] = [full/n]*n\n",
    "\n",
    "featured_data"
   ]
  },
  {
   "cell_type": "markdown",
   "metadata": {},
   "source": [
    "**2. Побудувати графік, що відображає розподіл ознак в групах.**"
   ]
  },
  {
   "cell_type": "code",
   "execution_count": 4,
   "metadata": {},
   "outputs": [
    {
     "data": {
      "text/plain": [
       "[<matplotlib.lines.Line2D at 0x1ba6bbc8>]"
      ]
     },
     "execution_count": 4,
     "metadata": {},
     "output_type": "execute_result"
    },
    {
     "data": {
      "image/png": "[encoded data removed]",
      "text/plain": [
       "<Figure size 1080x360 with 2 Axes>"
      ]
     },
     "metadata": {},
     "output_type": "display_data"
    }
   ],
   "source": [
    "sns.set()\n",
    "f = plt.subplots(1,2,figsize=(15,5))\n",
    "\n",
    "plt.subplot(121)\n",
    "plt.plot(featured_data.index, featured_data['TotalDeaths'], marker='o', markersize=5)\n",
    "\n",
    "plt.subplot(122)\n",
    "plt.plot(featured_data.index, featured_data['EqualTotalDeaths'], marker='o', markersize=5)\n",
    "# sns.pairplot(featured_data)\n",
    "\n",
    "# plt.tight_layout()\n",
    "# plt.show()"
   ]
  },
  {
   "cell_type": "markdown",
   "metadata": {},
   "source": [
    "**3. Написати функції, що оцінює зв'язок між ознакою та групою за критерієм Пірсона. Функція має оцінювати розбіжність на двох рівнях - 0,001 та 0,05, в залежністі від параметру significant_level, що передається в неї. Врахувати у функції випадок, що сума частот ознаки у групах може бути відмінною.**"
   ]
  },
  {
   "cell_type": "code",
   "execution_count": 13,
   "metadata": {},
   "outputs": [],
   "source": [
    "def pirson(significant_level, real, expected):\n",
    "    if not abs(sum(real) - sum(expected)) < 0.000001:\n",
    "        expected = expected / sum(expected) * sum(real)\n",
    "        \n",
    "    pirson_values = pd.read_excel('pirson_values.xlsx')\n",
    "    pirson_values = pirson_values.loc[1:, :]\n",
    "    pirson_values = pirson_values.rename(columns={\"Unnamed: 0\": \"Level\", \"Рівень значимості\": 0.01, \"Unnamed: 2\": 0.05})\n",
    "    pirson_values.set_index(\"Level\", inplace=True)\n",
    "    \n",
    "    chi_squared = sum([ (x_real - x_expected)**2 / x_expected for\n",
    "                  x_real, x_expected in zip(real, expected)])\n",
    "    \n",
    "    r = len(real) - 1\n",
    "    \n",
    "    \n",
    "    check_value = pirson_values.loc[r, significant_level]\n",
    "    return check_value < chi_squared\n",
    "\n",
    "pirson_values = pd.read_excel('pirson_values.xlsx')"
   ]
  },
  {
   "cell_type": "markdown",
   "metadata": {},
   "source": [
    "**4. Перевірити розбіжність між групами на даних з п. 1.**"
   ]
  },
  {
   "cell_type": "code",
   "execution_count": 7,
   "metadata": {},
   "outputs": [],
   "source": [
    "featured_data.insert(1, 'Percentage of TotalDeths',\n",
    "                     (np.array([x for x in featured_data['TotalDeaths']]) / featured_data['TotalDeaths'].sum() * 100).round(4))\n",
    "featured_data.insert(3, 'Percentage of EqualTotalDeths',\n",
    "                     (np.array([round(x, 4) for x in featured_data['EqualTotalDeaths']]) / featured_data['TotalDeaths'].sum() * 100).round(4))"
   ]
  },
  {
   "cell_type": "code",
   "execution_count": 8,
   "metadata": {},
   "outputs": [
    {
     "data": {
      "text/html": [
       "<div>\n",
       "<style scoped>\n",
       "    .dataframe tbody tr th:only-of-type {\n",
       "        vertical-align: middle;\n",
       "    }\n",
       "\n",
       "    .dataframe tbody tr th {\n",
       "        vertical-align: top;\n",
       "    }\n",
       "\n",
       "    .dataframe thead th {\n",
       "        text-align: right;\n",
       "    }\n",
       "</style>\n",
       "<table border=\"1\" class=\"dataframe\">\n",
       "  <thead>\n",
       "    <tr style=\"text-align: right;\">\n",
       "      <th></th>\n",
       "      <th>TotalDeaths</th>\n",
       "      <th>Percentage of TotalDeths</th>\n",
       "      <th>EqualTotalDeaths</th>\n",
       "      <th>Percentage of EqualTotalDeths</th>\n",
       "    </tr>\n",
       "  </thead>\n",
       "  <tbody>\n",
       "    <tr>\n",
       "      <th>until_30</th>\n",
       "      <td>128</td>\n",
       "      <td>1.0852%</td>\n",
       "      <td>2948.75</td>\n",
       "      <td>25.0%</td>\n",
       "    </tr>\n",
       "    <tr>\n",
       "      <th>between_30_and_40</th>\n",
       "      <td>5322</td>\n",
       "      <td>45.1208%</td>\n",
       "      <td>2948.75</td>\n",
       "      <td>25.0%</td>\n",
       "    </tr>\n",
       "    <tr>\n",
       "      <th>between_40_and_50</th>\n",
       "      <td>6345</td>\n",
       "      <td>53.794%</td>\n",
       "      <td>2948.75</td>\n",
       "      <td>25.0%</td>\n",
       "    </tr>\n",
       "    <tr>\n",
       "      <th>over_50</th>\n",
       "      <td>0</td>\n",
       "      <td>0.0%</td>\n",
       "      <td>2948.75</td>\n",
       "      <td>25.0%</td>\n",
       "    </tr>\n",
       "  </tbody>\n",
       "</table>\n",
       "</div>"
      ],
      "text/plain": [
       "                   TotalDeaths Percentage of TotalDeths  EqualTotalDeaths  \\\n",
       "until_30                   128                  1.0852%           2948.75   \n",
       "between_30_and_40         5322                 45.1208%           2948.75   \n",
       "between_40_and_50         6345                  53.794%           2948.75   \n",
       "over_50                      0                     0.0%           2948.75   \n",
       "\n",
       "                  Percentage of EqualTotalDeths  \n",
       "until_30                                  25.0%  \n",
       "between_30_and_40                         25.0%  \n",
       "between_40_and_50                         25.0%  \n",
       "over_50                                   25.0%  "
      ]
     },
     "execution_count": 8,
     "metadata": {},
     "output_type": "execute_result"
    }
   ],
   "source": [
    "featured_data[['Percentage of TotalDeths', 'Percentage of EqualTotalDeths']] = featured_data[['Percentage of TotalDeths', 'Percentage of EqualTotalDeths']].astype(str) + '%'\n",
    "featured_data"
   ]
  },
  {
   "cell_type": "code",
   "execution_count": 9,
   "metadata": {},
   "outputs": [
    {
     "data": {
      "text/html": [
       "<div>\n",
       "<style scoped>\n",
       "    .dataframe tbody tr th:only-of-type {\n",
       "        vertical-align: middle;\n",
       "    }\n",
       "\n",
       "    .dataframe tbody tr th {\n",
       "        vertical-align: top;\n",
       "    }\n",
       "\n",
       "    .dataframe thead th {\n",
       "        text-align: right;\n",
       "    }\n",
       "</style>\n",
       "<table border=\"1\" class=\"dataframe\">\n",
       "  <thead>\n",
       "    <tr style=\"text-align: right;\">\n",
       "      <th></th>\n",
       "      <th>TotalDeaths</th>\n",
       "      <th>Percentage of TotalDeths</th>\n",
       "      <th>EqualTotalDeaths</th>\n",
       "      <th>Percentage of EqualTotalDeths</th>\n",
       "    </tr>\n",
       "  </thead>\n",
       "  <tbody>\n",
       "    <tr>\n",
       "      <th>until_30</th>\n",
       "      <td>128</td>\n",
       "      <td>1.0852%</td>\n",
       "      <td>2948.75</td>\n",
       "      <td>25.0%</td>\n",
       "    </tr>\n",
       "    <tr>\n",
       "      <th>between_30_and_40</th>\n",
       "      <td>5322</td>\n",
       "      <td>45.1208%</td>\n",
       "      <td>2948.75</td>\n",
       "      <td>25.0%</td>\n",
       "    </tr>\n",
       "    <tr>\n",
       "      <th>between_40_and_50</th>\n",
       "      <td>6345</td>\n",
       "      <td>53.794%</td>\n",
       "      <td>2948.75</td>\n",
       "      <td>25.0%</td>\n",
       "    </tr>\n",
       "    <tr>\n",
       "      <th>over_50</th>\n",
       "      <td>0</td>\n",
       "      <td>0.0%</td>\n",
       "      <td>2948.75</td>\n",
       "      <td>25.0%</td>\n",
       "    </tr>\n",
       "  </tbody>\n",
       "</table>\n",
       "</div>"
      ],
      "text/plain": [
       "                   TotalDeaths Percentage of TotalDeths  EqualTotalDeaths  \\\n",
       "until_30                   128                  1.0852%           2948.75   \n",
       "between_30_and_40         5322                 45.1208%           2948.75   \n",
       "between_40_and_50         6345                  53.794%           2948.75   \n",
       "over_50                      0                     0.0%           2948.75   \n",
       "\n",
       "                  Percentage of EqualTotalDeths  \n",
       "until_30                                  25.0%  \n",
       "between_30_and_40                         25.0%  \n",
       "between_40_and_50                         25.0%  \n",
       "over_50                                   25.0%  "
      ]
     },
     "execution_count": 9,
     "metadata": {},
     "output_type": "execute_result"
    }
   ],
   "source": [
    "featured_data"
   ]
  },
  {
   "cell_type": "markdown",
   "metadata": {},
   "source": [
    "**Окремо вивести результати роботи критерію (чи є статистична розбіжність між групами)**"
   ]
  },
  {
   "cell_type": "code",
   "execution_count": 10,
   "metadata": {},
   "outputs": [
    {
     "data": {
      "text/html": [
       "<div>\n",
       "<style scoped>\n",
       "    .dataframe tbody tr th:only-of-type {\n",
       "        vertical-align: middle;\n",
       "    }\n",
       "\n",
       "    .dataframe tbody tr th {\n",
       "        vertical-align: top;\n",
       "    }\n",
       "\n",
       "    .dataframe thead th {\n",
       "        text-align: right;\n",
       "    }\n",
       "</style>\n",
       "<table border=\"1\" class=\"dataframe\">\n",
       "  <thead>\n",
       "    <tr style=\"text-align: right;\">\n",
       "      <th></th>\n",
       "      <th>Статистична розбіжність</th>\n",
       "    </tr>\n",
       "    <tr>\n",
       "      <th>Рівень значимості</th>\n",
       "      <th></th>\n",
       "    </tr>\n",
       "  </thead>\n",
       "  <tbody>\n",
       "    <tr>\n",
       "      <th>0.01</th>\n",
       "      <td>True</td>\n",
       "    </tr>\n",
       "    <tr>\n",
       "      <th>0.05</th>\n",
       "      <td>True</td>\n",
       "    </tr>\n",
       "  </tbody>\n",
       "</table>\n",
       "</div>"
      ],
      "text/plain": [
       "                     Статистична розбіжність\n",
       "Рівень значимості\\t                         \n",
       "0.01                                    True\n",
       "0.05                                    True"
      ]
     },
     "execution_count": 10,
     "metadata": {},
     "output_type": "execute_result"
    }
   ],
   "source": [
    "\n",
    "sign_01 = pirson (0.01, featured_data['TotalDeaths'], featured_data['EqualTotalDeaths'] )\n",
    "sign_05 = pirson (0.05, featured_data['TotalDeaths'], featured_data['EqualTotalDeaths'] )\n",
    "\n",
    "results = pd.DataFrame ( \n",
    "    [sign_01, sign_05],\n",
    "    columns = [\"Статистична розбіжність\"],\n",
    "    index = ['0.01', '0.05']\n",
    ")\n",
    "\n",
    "results.index.name = 'Рівень значимості\t'\n",
    "\n",
    "results\n"
   ]
  },
  {
   "cell_type": "code",
   "execution_count": null,
   "metadata": {},
   "outputs": [],
   "source": []
  }
 ],
 "metadata": {
  "colab": {
   "authorship_tag": "ABX9TyMj+zsbRRXcFPRiMT239GjJ",
   "collapsed_sections": [],
   "name": "Task5.ipynb",
   "provenance": []
  },
  "kernelspec": {
   "display_name": "Python 3",
   "language": "python",
   "name": "python3"
  },
  "language_info": {
   "codemirror_mode": {
    "name": "ipython",
    "version": 3
   },
   "file_extension": ".py",
   "mimetype": "text/x-python",
   "name": "python",
   "nbconvert_exporter": "python",
   "pygments_lexer": "ipython3",
   "version": "3.8.2"
  }
 },
 "nbformat": 4,
 "nbformat_minor": 1
}
